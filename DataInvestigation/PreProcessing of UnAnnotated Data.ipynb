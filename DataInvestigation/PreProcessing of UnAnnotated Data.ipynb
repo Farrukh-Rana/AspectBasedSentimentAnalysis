{
 "cells": [
  {
   "cell_type": "code",
   "execution_count": 1,
   "metadata": {},
   "outputs": [],
   "source": [
    "import pandas as pd\n",
    "import numpy as np\n",
    "import ast\n",
    "import re"
   ]
  },
  {
   "cell_type": "markdown",
   "metadata": {},
   "source": [
    "## Load Combined CSV from disc"
   ]
  },
  {
   "cell_type": "code",
   "execution_count": 2,
   "metadata": {},
   "outputs": [],
   "source": [
    "completeEnglish = pd.read_csv('completeRelevantEnglish.csv', sep='|', encoding='utf-8')"
   ]
  },
  {
   "cell_type": "code",
   "execution_count": 3,
   "metadata": {},
   "outputs": [
    {
     "data": {
      "text/html": [
       "<div>\n",
       "<style scoped>\n",
       "    .dataframe tbody tr th:only-of-type {\n",
       "        vertical-align: middle;\n",
       "    }\n",
       "\n",
       "    .dataframe tbody tr th {\n",
       "        vertical-align: top;\n",
       "    }\n",
       "\n",
       "    .dataframe thead th {\n",
       "        text-align: right;\n",
       "    }\n",
       "</style>\n",
       "<table border=\"1\" class=\"dataframe\">\n",
       "  <thead>\n",
       "    <tr style=\"text-align: right;\">\n",
       "      <th></th>\n",
       "      <th>article_author</th>\n",
       "      <th>article_id</th>\n",
       "      <th>article_link</th>\n",
       "      <th>article_rating</th>\n",
       "      <th>article_source</th>\n",
       "      <th>article_text</th>\n",
       "      <th>article_time</th>\n",
       "      <th>article_title</th>\n",
       "      <th>article_url</th>\n",
       "      <th>comments</th>\n",
       "      <th>relevant</th>\n",
       "      <th>resource_type</th>\n",
       "      <th>search_query</th>\n",
       "      <th>biased</th>\n",
       "      <th>original_source</th>\n",
       "      <th>original_url</th>\n",
       "      <th>article_subcategory</th>\n",
       "      <th>comments_count</th>\n",
       "      <th>article_tags</th>\n",
       "    </tr>\n",
       "  </thead>\n",
       "  <tbody>\n",
       "    <tr>\n",
       "      <th>3461</th>\n",
       "      <td>[{'article_author_name': 'Deirdre Shesgreen'}]</td>\n",
       "      <td>NaN</td>\n",
       "      <td>NaN</td>\n",
       "      <td>NaN</td>\n",
       "      <td>USA Today</td>\n",
       "      <td>WASHINGTON — If University of Cincinnati toxic...</td>\n",
       "      <td>2017-09-19 21:40:52</td>\n",
       "      <td>EPA nominee Michael Dourson endorsed weak stan...</td>\n",
       "      <td>https://www.usatoday.com/story/news/politics/2...</td>\n",
       "      <td>[{'comment_id': '1421588331287596_142166216128...</td>\n",
       "      <td>1</td>\n",
       "      <td>editorial</td>\n",
       "      <td>organic</td>\n",
       "      <td>False</td>\n",
       "      <td>NaN</td>\n",
       "      <td>NaN</td>\n",
       "      <td>NaN</td>\n",
       "      <td>NaN</td>\n",
       "      <td>NaN</td>\n",
       "    </tr>\n",
       "    <tr>\n",
       "      <th>3462</th>\n",
       "      <td>[{'article_author_name': 'Jeremy Bowman'}]</td>\n",
       "      <td>NaN</td>\n",
       "      <td>NaN</td>\n",
       "      <td>NaN</td>\n",
       "      <td>USA Today</td>\n",
       "      <td>The organic grocery chain fell on a weak earni...</td>\n",
       "      <td>2017-06-15 19:45:55</td>\n",
       "      <td>Why Whole Foods Market stock is getting slammed</td>\n",
       "      <td>https://www.usatoday.com/story/money/2017/06/1...</td>\n",
       "      <td>[{'comment_id': '1067987119970168_106816050328...</td>\n",
       "      <td>1</td>\n",
       "      <td>editorial</td>\n",
       "      <td>organic</td>\n",
       "      <td>False</td>\n",
       "      <td>NaN</td>\n",
       "      <td>NaN</td>\n",
       "      <td>NaN</td>\n",
       "      <td>NaN</td>\n",
       "      <td>NaN</td>\n",
       "    </tr>\n",
       "    <tr>\n",
       "      <th>3463</th>\n",
       "      <td>[{'article_author_name': 'Alex Berezow'}]</td>\n",
       "      <td>NaN</td>\n",
       "      <td>NaN</td>\n",
       "      <td>NaN</td>\n",
       "      <td>USA Today</td>\n",
       "      <td>We'll all be smarter, healthier and savvier if...</td>\n",
       "      <td>2017-07-21 11:00:10</td>\n",
       "      <td>Call junk science by its rightful name: Fake news</td>\n",
       "      <td>https://www.usatoday.com/story/opinion/2017/07...</td>\n",
       "      <td>[{'comment_id': '1342226019208324_134585664217...</td>\n",
       "      <td>1</td>\n",
       "      <td>editorial</td>\n",
       "      <td>organic</td>\n",
       "      <td>False</td>\n",
       "      <td>NaN</td>\n",
       "      <td>NaN</td>\n",
       "      <td>NaN</td>\n",
       "      <td>NaN</td>\n",
       "      <td>NaN</td>\n",
       "    </tr>\n",
       "    <tr>\n",
       "      <th>3464</th>\n",
       "      <td>[{'article_author_name': 'Josh Hafner'}]</td>\n",
       "      <td>NaN</td>\n",
       "      <td>NaN</td>\n",
       "      <td>NaN</td>\n",
       "      <td>USA Today</td>\n",
       "      <td>It's an unconscious act for many: Before you e...</td>\n",
       "      <td>2017-03-09 18:47:16</td>\n",
       "      <td>Is washing your produce a waste of time?</td>\n",
       "      <td>https://www.usatoday.com/story/news/nation-now...</td>\n",
       "      <td>[{'comment_id': '1351221804939929_156775662661...</td>\n",
       "      <td>1</td>\n",
       "      <td>editorial</td>\n",
       "      <td>organic</td>\n",
       "      <td>False</td>\n",
       "      <td>NaN</td>\n",
       "      <td>NaN</td>\n",
       "      <td>NaN</td>\n",
       "      <td>NaN</td>\n",
       "      <td>NaN</td>\n",
       "    </tr>\n",
       "    <tr>\n",
       "      <th>3465</th>\n",
       "      <td>[{'article_author_name': 'Scott Goss'}]</td>\n",
       "      <td>NaN</td>\n",
       "      <td>NaN</td>\n",
       "      <td>NaN</td>\n",
       "      <td>USA Today</td>\n",
       "      <td>Envirokure only recently began selling its org...</td>\n",
       "      <td>2016-05-10 19:29:20</td>\n",
       "      <td>Startup to turn chicken poop into organic gold</td>\n",
       "      <td>https://www.usatoday.com/story/tech/nation-now...</td>\n",
       "      <td>[{'comment_id': '1098328323557518_109902406015...</td>\n",
       "      <td>1</td>\n",
       "      <td>editorial</td>\n",
       "      <td>organic</td>\n",
       "      <td>False</td>\n",
       "      <td>NaN</td>\n",
       "      <td>NaN</td>\n",
       "      <td>NaN</td>\n",
       "      <td>NaN</td>\n",
       "      <td>NaN</td>\n",
       "    </tr>\n",
       "  </tbody>\n",
       "</table>\n",
       "</div>"
      ],
      "text/plain": [
       "                                      article_author  article_id article_link  \\\n",
       "3461  [{'article_author_name': 'Deirdre Shesgreen'}]         NaN          NaN   \n",
       "3462      [{'article_author_name': 'Jeremy Bowman'}]         NaN          NaN   \n",
       "3463       [{'article_author_name': 'Alex Berezow'}]         NaN          NaN   \n",
       "3464        [{'article_author_name': 'Josh Hafner'}]         NaN          NaN   \n",
       "3465         [{'article_author_name': 'Scott Goss'}]         NaN          NaN   \n",
       "\n",
       "      article_rating article_source  \\\n",
       "3461             NaN      USA Today   \n",
       "3462             NaN      USA Today   \n",
       "3463             NaN      USA Today   \n",
       "3464             NaN      USA Today   \n",
       "3465             NaN      USA Today   \n",
       "\n",
       "                                           article_text         article_time  \\\n",
       "3461  WASHINGTON — If University of Cincinnati toxic...  2017-09-19 21:40:52   \n",
       "3462  The organic grocery chain fell on a weak earni...  2017-06-15 19:45:55   \n",
       "3463  We'll all be smarter, healthier and savvier if...  2017-07-21 11:00:10   \n",
       "3464  It's an unconscious act for many: Before you e...  2017-03-09 18:47:16   \n",
       "3465  Envirokure only recently began selling its org...  2016-05-10 19:29:20   \n",
       "\n",
       "                                          article_title  \\\n",
       "3461  EPA nominee Michael Dourson endorsed weak stan...   \n",
       "3462    Why Whole Foods Market stock is getting slammed   \n",
       "3463  Call junk science by its rightful name: Fake news   \n",
       "3464           Is washing your produce a waste of time?   \n",
       "3465     Startup to turn chicken poop into organic gold   \n",
       "\n",
       "                                            article_url  \\\n",
       "3461  https://www.usatoday.com/story/news/politics/2...   \n",
       "3462  https://www.usatoday.com/story/money/2017/06/1...   \n",
       "3463  https://www.usatoday.com/story/opinion/2017/07...   \n",
       "3464  https://www.usatoday.com/story/news/nation-now...   \n",
       "3465  https://www.usatoday.com/story/tech/nation-now...   \n",
       "\n",
       "                                               comments  relevant  \\\n",
       "3461  [{'comment_id': '1421588331287596_142166216128...         1   \n",
       "3462  [{'comment_id': '1067987119970168_106816050328...         1   \n",
       "3463  [{'comment_id': '1342226019208324_134585664217...         1   \n",
       "3464  [{'comment_id': '1351221804939929_156775662661...         1   \n",
       "3465  [{'comment_id': '1098328323557518_109902406015...         1   \n",
       "\n",
       "     resource_type search_query  biased original_source original_url  \\\n",
       "3461     editorial      organic   False             NaN          NaN   \n",
       "3462     editorial      organic   False             NaN          NaN   \n",
       "3463     editorial      organic   False             NaN          NaN   \n",
       "3464     editorial      organic   False             NaN          NaN   \n",
       "3465     editorial      organic   False             NaN          NaN   \n",
       "\n",
       "     article_subcategory  comments_count article_tags  \n",
       "3461                 NaN             NaN          NaN  \n",
       "3462                 NaN             NaN          NaN  \n",
       "3463                 NaN             NaN          NaN  \n",
       "3464                 NaN             NaN          NaN  \n",
       "3465                 NaN             NaN          NaN  "
      ]
     },
     "execution_count": 3,
     "metadata": {},
     "output_type": "execute_result"
    }
   ],
   "source": [
    "completeEnglish.tail()"
   ]
  },
  {
   "cell_type": "markdown",
   "metadata": {},
   "source": [
    "### Total Number of Comments available"
   ]
  },
  {
   "cell_type": "code",
   "execution_count": 4,
   "metadata": {},
   "outputs": [],
   "source": [
    "commentGenerators = completeEnglish['comments'].apply(lambda x:(y['comment_text'] for y in ast.literal_eval(x)))"
   ]
  },
  {
   "cell_type": "code",
   "execution_count": 5,
   "metadata": {},
   "outputs": [],
   "source": [
    "def formatComment(comment):\n",
    "    return re.sub('\\n|http[s]?://(?:[a-zA-Z]|[0-9]|[$-_@.&+]|[!*\\(\\),]|(?:%[0-9a-fA-F][0-9a-fA-F]))+','',comment)"
   ]
  },
  {
   "cell_type": "code",
   "execution_count": 6,
   "metadata": {},
   "outputs": [],
   "source": [
    "def divideLongerComment(comment,regex='[.?!]'):\n",
    "    if (len(comment) == 0):\n",
    "        return []\n",
    "    \n",
    "    candidateIndex = 0\n",
    "    match = re.search(regex,comment[candidateIndex:])\n",
    "    # Keep looking for the regex until the wordCount becomes greater than 64\n",
    "    while ((match != None) and (comment[:match.end()+candidateIndex].count(' ') < 64)):\n",
    "        candidateIndex += match.end()\n",
    "        # Regex search is happening in the smaller substring of the original comment starting from the index where previous regex was found\n",
    "        match = re.search(regex,comment[candidateIndex:])\n",
    "    \n",
    "    # Check if we Couldn't find the regex\n",
    "    if (candidateIndex == 0):\n",
    "        # If wordCount less than 64, then NO Problem\n",
    "        if (comment.count(' ') < 64):\n",
    "            return [comment]\n",
    "        else:\n",
    "            # Need to divide the comment some other way since default regex isn't working\n",
    "            # This would be TRUE only if we couldn't find the regex in the previous recursion level\n",
    "            if (regex == ','):\n",
    "                # We couldn't find the regex, even with Comma. Randomly divide the comment\n",
    "                RANDOM_WORD_COUNT = 60\n",
    "                for x in range(1,len(comment),25):\n",
    "                    if (comment.count(' ',0,x) >= RANDOM_WORD_COUNT):\n",
    "                        return [comment[:x]] + divideLongerComment(comment[x:])\n",
    "            else:\n",
    "                # Try multiple things to break down the size of the comment\n",
    "                # Try matching Comma, Either we would find a comma or we randomly divide the comment into smaller comments\n",
    "                return divideLongerComment(comment,',')\n",
    "    \n",
    "    return [comment[:candidateIndex]] + divideLongerComment(comment[candidateIndex:])"
   ]
  },
  {
   "cell_type": "code",
   "execution_count": 7,
   "metadata": {},
   "outputs": [],
   "source": [
    "allComments = []\n",
    "for generator in commentGenerators:\n",
    "    for comment in generator:\n",
    "        comment = formatComment(comment)\n",
    "        if (len(comment)==0):\n",
    "            continue\n",
    "        wordCount = comment.count(' ')\n",
    "        if (wordCount > 64):\n",
    "            allComments += divideLongerComment(comment)\n",
    "        else:\n",
    "            allComments.append(comment)\n",
    "    allComments.append(\"\")"
   ]
  },
  {
   "cell_type": "code",
   "execution_count": 8,
   "metadata": {
    "scrolled": true
   },
   "outputs": [
    {
     "name": "stdout",
     "output_type": "stream",
     "text": [
      "Total Number of Comments in Unannotated dataset (After formatting and Dividing): 203196\n"
     ]
    }
   ],
   "source": [
    "print('Total Number of Comments in Unannotated dataset (After formatting and Dividing): '+str(len(allComments)))"
   ]
  },
  {
   "cell_type": "markdown",
   "metadata": {},
   "source": [
    "### Biggest String in the comments\n",
    "#### Should be smaller than 64 words"
   ]
  },
  {
   "cell_type": "code",
   "execution_count": 9,
   "metadata": {},
   "outputs": [],
   "source": [
    "bigString = max(allComments,key=len)"
   ]
  },
  {
   "cell_type": "code",
   "execution_count": 10,
   "metadata": {},
   "outputs": [
    {
     "data": {
      "text/plain": [
       "63"
      ]
     },
     "execution_count": 10,
     "metadata": {},
     "output_type": "execute_result"
    }
   ],
   "source": [
    "bigString.count(' ')"
   ]
  },
  {
   "cell_type": "markdown",
   "metadata": {},
   "source": [
    "### Store comments for PreTraining BERT"
   ]
  },
  {
   "cell_type": "code",
   "execution_count": 11,
   "metadata": {},
   "outputs": [],
   "source": [
    "with open('allRelevantCommentsUnannotatedEnglish_V02.txt', 'w') as f:\n",
    "    for item in allComments:\n",
    "        f.write(\"%s\\n\" % item)"
   ]
  },
  {
   "cell_type": "code",
   "execution_count": null,
   "metadata": {},
   "outputs": [],
   "source": []
  }
 ],
 "metadata": {
  "kernelspec": {
   "display_name": "Python 3",
   "language": "python",
   "name": "python3"
  },
  "language_info": {
   "codemirror_mode": {
    "name": "ipython",
    "version": 3
   },
   "file_extension": ".py",
   "mimetype": "text/x-python",
   "name": "python",
   "nbconvert_exporter": "python",
   "pygments_lexer": "ipython3",
   "version": "3.7.2"
  }
 },
 "nbformat": 4,
 "nbformat_minor": 2
}
